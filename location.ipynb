{
 "cells": [
  {
   "cell_type": "code",
   "execution_count": 2,
   "metadata": {},
   "outputs": [],
   "source": [
    "import pandas as pd\n",
    "import requests,json\n",
    "import openpyxl as op\n",
    "from geopy.distance import great_circle as GRC"
   ]
  },
  {
   "cell_type": "code",
   "execution_count": 20,
   "metadata": {},
   "outputs": [
    {
     "name": "stdout",
     "output_type": "stream",
     "text": [
      "                  位置\n",
      "0     安徽省合肥市瑶海区橘郡万绿园\n",
      "1  安徽省合肥市瑶海区招商公园1872\n",
      "2    安徽省合肥市瑶海区力高君御世家\n",
      "3      安徽省合肥市巢湖市名门名城\n",
      "4        安徽省合肥市瑶海区磨店\n"
     ]
    }
   ],
   "source": [
    "data=pd.read_excel(\"data_handle.xlsx\",engine = \"openpyxl\",sheet_name= \"sheet1\",usecols=[\"位置\"])\n",
    "print(data.head())"
   ]
  },
  {
   "cell_type": "code",
   "execution_count": 31,
   "metadata": {},
   "outputs": [],
   "source": [
    "hf=(31.733195, 117.325963)\n",
    "url = 'https://restapi.amap.com/v3/geocode/geo'       # 输入API问号前固定不变的部分\n",
    "bg = op.load_workbook(r\"second.xlsx\")      \t\n",
    "sheet = bg.active    \n",
    "for i in range(len(data[\"位置\"])):\n",
    "    \n",
    "    params = {'key':'a3c03f4dadafd93d266a0dc74e7e79a1',   # 注册高德地图，创建应用获得的key，这是我自己创建的key\n",
    "        'address': data[\"位置\"][i]}                      # 将两个参数放入字典\n",
    "    res = requests.get(url, params)\n",
    "    results = json.loads(res.text)\n",
    "    tmp=results[\"geocodes\"][0]\n",
    "    sheet.cell(row=i+2, column = 11, value =tmp[\"formatted_address\"])\n",
    "\n",
    "    jw=tmp[\"location\"].split(\",\")\n",
    "    lo=[0,0]\n",
    "    lo[0]=float(jw[1])\n",
    "    lo[1]=float(jw[0])\n",
    "    distance=int(GRC(tuple(lo),hf).km)\n",
    "    sheet.cell(row=i+2, column = 10, value =distance)\n",
    "  \n",
    "bg.save(\"data_handle.xlsx\")"
   ]
  },
  {
   "cell_type": "code",
   "execution_count": 4,
   "metadata": {},
   "outputs": [
    {
     "name": "stdout",
     "output_type": "stream",
     "text": [
      "     户型  卧室  客厅   面积  朝向  装修  楼层高低 修建时间    结构  距离                 位置     单价\n",
      "0  4室2厅   4   2  176   1   4     8   18    板楼  15     安徽省合肥市瑶海区橘郡万绿园  11603\n",
      "1  3室2厅   3   2  126   1   4     8    ?    板楼  19  安徽省合肥市瑶海区招商公园1872  17096\n",
      "2  3室2厅   3   2   85   2   3    25    5  板塔结合  21    安徽省合肥市瑶海区力高君御世家  14329\n",
      "3  3室2厅   3   2  107   2   2     6    4  板塔结合  54      安徽省合肥市巢湖市名门名城  15377\n",
      "4  3室2厅   3   2  110   1   3    30    ?    板楼  24        安徽省合肥市瑶海区磨店  14322\n"
     ]
    }
   ],
   "source": [
    "data_handle=pd.read_excel(\"data_handle.xlsx\",engine = \"openpyxl\",sheet_name= \"sheet1\")\n",
    "print(data_handle.head())\n",
    "data_handle.to_csv(\"./marchine.csv\",index=None)"
   ]
  }
 ],
 "metadata": {
  "kernelspec": {
   "display_name": "Python 3",
   "language": "python",
   "name": "python3"
  },
  "language_info": {
   "codemirror_mode": {
    "name": "ipython",
    "version": 3
   },
   "file_extension": ".py",
   "mimetype": "text/x-python",
   "name": "python",
   "nbconvert_exporter": "python",
   "pygments_lexer": "ipython3",
   "version": "3.8.7 (tags/v3.8.7:6503f05, Dec 21 2020, 17:59:51) [MSC v.1928 64 bit (AMD64)]"
  },
  "orig_nbformat": 4,
  "vscode": {
   "interpreter": {
    "hash": "ea86ec4e85832ea098a281b4a5db76d7317e707b78009305ff0ce957c328ac10"
   }
  }
 },
 "nbformat": 4,
 "nbformat_minor": 2
}
